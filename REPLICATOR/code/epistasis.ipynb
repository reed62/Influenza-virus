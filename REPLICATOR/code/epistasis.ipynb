{
 "cells": [
  {
   "attachments": {},
   "cell_type": "markdown",
   "metadata": {},
   "source": [
    "# Imports"
   ]
  },
  {
   "cell_type": "code",
   "execution_count": 3,
   "metadata": {
    "execution": {
     "iopub.execute_input": "2022-06-20T12:06:51.475391Z",
     "iopub.status.busy": "2022-06-20T12:06:51.474876Z",
     "iopub.status.idle": "2022-06-20T12:06:59.345237Z",
     "shell.execute_reply": "2022-06-20T12:06:59.344425Z",
     "shell.execute_reply.started": "2022-06-20T12:06:51.475299Z"
    },
    "tags": []
   },
   "outputs": [],
   "source": [
    "import sys\n",
    "\n",
    "sys.path.append(\"./src\")\n",
    "import matplotlib.pyplot as plt\n",
    "import numpy as np\n",
    "import seaborn as sns\n",
    "from scipy.stats import pearsonr\n",
    "from sklearn.linear_model import Lasso, LinearRegression\n",
    "from sklearn.preprocessing import PolynomialFeatures\n",
    "from src.data_storage import random_mutant_dataset, virus_seqs\n",
    "import pandas as pd\n",
    "from itertools import product\n",
    "import torch\n",
    "import os\n",
    "from src.model_config import ModelConfig, model_collections\n",
    "from src.data_storage import random_mutant_dataset, virus_seqs\n",
    "import data\n",
    "from torch.utils.data.dataloader import DataLoader\n",
    "import torch.nn.functional as F\n",
    "from matplotlib.colors import ListedColormap, LinearSegmentedColormap"
   ]
  },
  {
   "attachments": {},
   "cell_type": "markdown",
   "metadata": {},
   "source": [
    "# Linear regression model"
   ]
  },
  {
   "attachments": {},
   "cell_type": "markdown",
   "metadata": {},
   "source": [
    "## Feature extraction"
   ]
  },
  {
   "cell_type": "code",
   "execution_count": 46,
   "metadata": {
    "execution": {
     "iopub.execute_input": "2022-06-20T12:07:05.735150Z",
     "iopub.status.busy": "2022-06-20T12:07:05.734197Z",
     "iopub.status.idle": "2022-06-20T12:07:08.692805Z",
     "shell.execute_reply": "2022-06-20T12:07:08.692044Z",
     "shell.execute_reply.started": "2022-06-20T12:07:05.735111Z"
    },
    "tags": []
   },
   "outputs": [
    {
     "name": "stdout",
     "output_type": "stream",
     "text": [
      "Shape of input: (1, 5305)\n"
     ]
    }
   ],
   "source": [
    "def one_hot_encode(s):\n",
    "    one_hot_arr = np.eye(4)\n",
    "    return np.concatenate([one_hot_arr[i, :].reshape((-1, 1)) for i in s], axis=1)\n",
    "\n",
    "freq_df = pd.read_csv(\"data/wt_filter_gate.csv\")\n",
    "# One-hot encoding\n",
    "freq_df[\"input_arr\"] = freq_df.seq.apply(lambda s: [\"AUCG\".find(nt) for nt in s])\n",
    "freq_df[\"input_arr\"] = freq_df.input_arr.apply(one_hot_encode)\n",
    "\n",
    "# Second-order features\n",
    "poly = PolynomialFeatures(degree=2, interaction_only=True)\n",
    "freq_df.input_arr = freq_df.input_arr.apply(\n",
    "    lambda arr: arr.flatten(order=\"F\").reshape((1, -1))\n",
    ")\n",
    "\n",
    "freq_df.input_arr = freq_df.input_arr.apply(poly.fit_transform)\n",
    "start = 26\n",
    "mask = np.ones(5461)\n",
    "flag = 0\n",
    "total = 0\n",
    "for i in np.arange(103, 0, -1):\n",
    "    if flag == 0:\n",
    "        flag = 3\n",
    "    else:\n",
    "        flag -= 1\n",
    "    mask[start : start + flag] = 0\n",
    "    # print(start, start+flag)\n",
    "    total += flag\n",
    "    start += i\n",
    "freq_df.input_arr = freq_df.input_arr.apply(lambda x: x[:, mask == 1])\n",
    "\n",
    "print(\"Shape of input:\", freq_df.loc[0, \"input_arr\"].shape)\n",
    "\n",
    "X = np.concatenate(freq_df.input_arr.tolist(), axis=0)\n",
    "y = freq_df.score.values\n",
    "np.save(\"results/epistasis_linear_features_first_order.npy\", {\"X\": X, \"y\": y})"
   ]
  },
  {
   "attachments": {},
   "cell_type": "markdown",
   "metadata": {},
   "source": [
    "## Training"
   ]
  },
  {
   "cell_type": "code",
   "execution_count": null,
   "metadata": {
    "execution": {
     "iopub.execute_input": "2022-06-20T12:07:11.603213Z",
     "iopub.status.busy": "2022-06-20T12:07:11.602546Z",
     "iopub.status.idle": "2022-06-20T12:07:13.365847Z",
     "shell.execute_reply": "2022-06-20T12:07:13.364951Z",
     "shell.execute_reply.started": "2022-06-20T12:07:11.603174Z"
    },
    "tags": []
   },
   "outputs": [],
   "source": [
    "# Train the LR model\n",
    "# %reset -f\n",
    "data_np = np.load(\"results/epistasis_linear_features_first_order.npy\", allow_pickle=True).item()\n",
    "X, y = data_np[\"X\"], data_np[\"y\"]\n",
    "\n",
    "alpha = 0.0001\n",
    "reg = Lasso(alpha=alpha, fit_intercept=False).fit(\n",
    "    X[: X.shape[0] // 10 * 9, :], y[: len(y) // 10 * 9]\n",
    ")"
   ]
  },
  {
   "attachments": {},
   "cell_type": "markdown",
   "metadata": {},
   "source": [
    "## Evaluation"
   ]
  },
  {
   "cell_type": "code",
   "execution_count": null,
   "metadata": {
    "execution": {
     "iopub.execute_input": "2022-06-20T12:15:33.133939Z",
     "iopub.status.busy": "2022-06-20T12:15:33.133668Z",
     "iopub.status.idle": "2022-06-20T12:15:33.136978Z",
     "shell.execute_reply": "2022-06-20T12:15:33.136662Z",
     "shell.execute_reply.started": "2022-06-20T12:15:33.133922Z"
    },
    "tags": []
   },
   "outputs": [],
   "source": [
    "y_pred = reg.predict(X[-X.shape[0] // 10 :, :])\n",
    "print(\"Pearson r:\", pearsonr(y_pred.flatten(), y[-len(y) // 10 :])[0])"
   ]
  },
  {
   "attachments": {},
   "cell_type": "markdown",
   "metadata": {},
   "source": [
    "## Epistasis map"
   ]
  },
  {
   "cell_type": "code",
   "execution_count": 49,
   "metadata": {
    "execution": {
     "iopub.execute_input": "2022-06-18T04:13:02.283698Z",
     "iopub.status.busy": "2022-06-18T04:13:02.283437Z",
     "iopub.status.idle": "2022-06-18T04:13:02.286031Z",
     "shell.execute_reply": "2022-06-18T04:13:02.285724Z",
     "shell.execute_reply.started": "2022-06-18T04:13:02.283683Z"
    },
    "tags": []
   },
   "outputs": [],
   "source": [
    "independent_coef = abs(reg.coef_[1 : 4 * 26 + 1].reshape((4, -1), order=\"F\")).sum(axis=0)\n",
    "independent_coef = (independent_coef - independent_coef.min()) / (\n",
    "   independent_coef.max() - independent_coef.min()\n",
    ")"
   ]
  },
  {
   "cell_type": "code",
   "execution_count": 50,
   "metadata": {},
   "outputs": [],
   "source": [
    "interaction_coef = abs(reg.coef_[4 * 26 + 1:])\n",
    "interaction_coef = (interaction_coef - interaction_coef.min()) / (\n",
    "    interaction_coef.max() - interaction_coef.min()\n",
    ")\n"
   ]
  },
  {
   "cell_type": "code",
   "execution_count": null,
   "metadata": {
    "execution": {
     "iopub.execute_input": "2022-06-18T04:13:10.676266Z",
     "iopub.status.busy": "2022-06-18T04:13:10.676000Z",
     "iopub.status.idle": "2022-06-18T04:13:10.905115Z",
     "shell.execute_reply": "2022-06-18T04:13:10.904822Z",
     "shell.execute_reply.started": "2022-06-18T04:13:10.676251Z"
    },
    "tags": []
   },
   "outputs": [],
   "source": [
    "interaction_mat = np.zeros((26, 26)) + np.diag(independent_coef)\n",
    "start_idx = 0\n",
    "for i, n in enumerate(range(25, 0, -1)):\n",
    "    coef = []\n",
    "    for _ in range(4):\n",
    "        #print(i,n)\n",
    "        #print(start_idx)\n",
    "        #print(start_idx + n * 4)\n",
    "        #print(interaction_coef[start_idx:start_idx + n * 4].reshape((4, -1), order=\"F\"))\n",
    "        #print(interaction_coef[start_idx:start_idx + n * 4].reshape((4, -1), order=\"F\").sum(axis=0))\n",
    "        coef.append(interaction_coef[start_idx:start_idx + n * 4].reshape((4, -1), order=\"F\").sum(axis=0).tolist())\n",
    "        start_idx += 4 * n\n",
    "    interaction_mat[i, i + 1 :] = np.array(coef).sum(axis=0)\n",
    "#interaction_mat = interaction_mat + interaction_mat.T - np.diag(interaction_mat.diagonal())\n",
    "def cre_color(r,g,b):\n",
    "    return [r/256,g/256,b/256]\n",
    "\n",
    "colors = [\n",
    "    cre_color(248,248,248),\n",
    "    cre_color(200,140,165),\n",
    "    cre_color(190,135,160),\n",
    "    cre_color(185,130,155),\n",
    "    cre_color(180,120,145),\n",
    "    cre_color(165,105,120),\n",
    "    cre_color(150,100,115),\n",
    "    cre_color(145,95,105),\n",
    "    cre_color(140,90,100),\n",
    "    cre_color(135,85,95),\n",
    "    cre_color(130,80,90),\n",
    "    cre_color(125,75,85),\n",
    "]\n",
    "\n",
    "cmap1 = LinearSegmentedColormap.from_list(\"mycmap\", colors)\n",
    "\n",
    "\n",
    "_, ax = plt.subplots(1, 1, figsize=(7,7))\n",
    "mask = np.zeros_like(interaction_mat,dtype=bool)\n",
    "mask[np.triu_indices_from(mask,k=0)] = True\n",
    "interaction_mat_scale = []\n",
    "for item in interaction_mat:\n",
    "    item = np.log10(item+2)\n",
    "    interaction_mat_scale.append(item)\n",
    "sns.heatmap(abs(interaction_mat), \n",
    "            vmax=2,\n",
    "            vmin=0.2,\n",
    "            cmap='viridis',\n",
    "            # center=0.28,\n",
    "            square=True,\n",
    "            ax=ax,\n",
    "            cbar_kws={'ticks':[0,1,2],'pad':0.1,'fraction':0.05,'aspect':3,'shrink':3,'location':'right'},\n",
    "            )\n",
    "ax.tick_params(top='on',bottom='off',right='on',left='off')\n",
    "ax.tick_params(labeltop='on',labelbottom='off',labelright='on',labelleft='off')\n",
    "ax.set_xticks(np.array(range(0,26,4))+0.5)\n",
    "ax.set_yticks(np.array(range(0,26,4))+0.5)\n",
    "ax.set_xticklabels(np.array(range(0,26,4))+1)\n",
    "ax.set_yticklabels(np.array(range(0,26,4))+1)\n",
    "plt.rcParams['svg.fonttype']= 'none'\n",
    "plt.savefig('results/epistasis_WT.svg', format='svg', bbox_inches='tight')"
   ]
  },
  {
   "cell_type": "code",
   "execution_count": 54,
   "metadata": {},
   "outputs": [],
   "source": [
    "import pandas as pd\n",
    "interaction_df = pd.DataFrame(interaction_mat)\n",
    "interaction_df.index = [f\"Pos{i+1}\" for i in range(26)]\n",
    "interaction_df.columns = [f\"Pos{i+1}\" for i in range(26)]\n",
    "interaction_df.to_csv(\"results/interaction_matrix.csv\")\n"
   ]
  }
 ],
 "metadata": {
  "kernelspec": {
   "display_name": "base",
   "language": "python",
   "name": "python3"
  },
  "language_info": {
   "codemirror_mode": {
    "name": "ipython",
    "version": 3
   },
   "file_extension": ".py",
   "mimetype": "text/x-python",
   "name": "python",
   "nbconvert_exporter": "python",
   "pygments_lexer": "ipython3",
   "version": "3.9.19"
  },
  "widgets": {
   "application/vnd.jupyter.widget-state+json": {
    "state": {},
    "version_major": 2,
    "version_minor": 0
   }
  }
 },
 "nbformat": 4,
 "nbformat_minor": 4
}
